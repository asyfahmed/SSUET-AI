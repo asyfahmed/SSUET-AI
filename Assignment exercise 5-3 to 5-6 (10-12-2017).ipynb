{
 "cells": [
  {
   "cell_type": "code",
   "execution_count": 7,
   "metadata": {},
   "outputs": [
    {
     "name": "stdout",
     "output_type": "stream",
     "text": [
      "Part 5-3.1\n",
      "\n",
      "Yay! you just earned 5 points..!\n",
      "\n",
      "\n",
      "\n",
      "Part 5-3.2\n"
     ]
    }
   ],
   "source": [
    "### 5-3. Alien Colors #1:5-3. Alien Colors #1: Imagine an alien was just shot down in a game. Create a variable called alien_color\n",
    "### and assign it a value of 'green', 'yellow', or 'red'.\n",
    "\n",
    "###  Write an if statement to test whether the alien’s color is green. If it is, print a message that the player just earned 5 points.\n",
    "print(\"Part 5-3.1\")\n",
    "alien_color = \"green\"\n",
    "\n",
    "if alien_color ==\"green\":\n",
    "    print(\"\\nYay! you just earned 5 points..!\")\n",
    "\n",
    "### Write one version of this program that passes the if test and another that fails. (The version that fails will have no output.)\n",
    "\n",
    "print(\"\\n\\n\")\n",
    "print(\"Part 5-3.2\")\n",
    "\n",
    "alien_color = \"red\"\n",
    "\n",
    "if alien_color ==\"green\":\n",
    "    print(\"\\nYay! you just earned 5 points..!\")"
   ]
  },
  {
   "cell_type": "code",
   "execution_count": 8,
   "metadata": {},
   "outputs": [
    {
     "name": "stdout",
     "output_type": "stream",
     "text": [
      "Part 5-4.1\n",
      "\n",
      "Yay! you just earned 5 points for shooting the alien..!\n",
      "\n",
      "\n",
      "\n",
      "Part 5-4.2\n",
      "\n",
      "You just earned 10 points.\n"
     ]
    }
   ],
   "source": [
    "\n",
    "# 5-4. Alien Colors #2: Choose a color for an alien as you did in Exercise 5-3, and \n",
    "# Write an if-else chain.\n",
    "\n",
    "print(\"Part 5-4.1\")\n",
    "alien_color = \"green\"\n",
    "\n",
    "if alien_color ==\"green\":\n",
    "    print(\"\\nYay! you just earned 5 points for shooting the alien..!\")\n",
    "else:\n",
    "    print(\"You just earned 10 points.\")\n",
    "\n",
    "# Write one version of this program that runs the if block and another that runs the else block.\n",
    "\n",
    "print(\"\\n\\n\")\n",
    "print(\"Part 5-4.2\")\n",
    "\n",
    "alien_color = \"red\"\n",
    "\n",
    "if alien_color ==\"green\":\n",
    "    print(\"\\nYay! you just earned 5 points for shooting the alien..!\")\n",
    "else:\n",
    "    print(\"\\nYou just earned 10 points.\")"
   ]
  },
  {
   "cell_type": "code",
   "execution_count": 13,
   "metadata": {},
   "outputs": [
    {
     "name": "stdout",
     "output_type": "stream",
     "text": [
      "when alien_color varriable is 'Green'\n",
      "You just earned 5 points\n",
      "\n",
      "when alien_color varriable is 'Yellow'\n",
      "You just earned 10 points\n",
      "\n",
      "when alien_color varriable is 'Red'\n",
      "You just earned 15 points\n"
     ]
    }
   ],
   "source": [
    "\"\"\"\"5-5. Alien Colors #3: Turn your if-else chain from Exercise 5-4 into an if-elifelse\n",
    "chain.\n",
    "• If the alien is green, print a message that the player earned 5 points.\n",
    "• If the alien is yellow, print a message that the player earned 10 points.\n",
    "• If the alien is red, print a message that the player earned 15 points.\n",
    "• Write three versions of this program, making sure each message is printed\n",
    "for the appropriate color alien.\"\"\"\n",
    "print (\"when alien_color varriable is 'Green'\")\n",
    "\n",
    "alien_color = \"green\"\n",
    "\n",
    "if alien_color ==\"green\":\n",
    "    print(\"You just earned 5 points\")\n",
    "elif alien_color == \"yellow\":\n",
    "    print(\"You just earned 10 points\")\n",
    "elif alien_color == \"red\":\n",
    "    print(\"You just earned 15 points\")\n",
    "\n",
    "print (\"\\nwhen alien_color varriable is 'Yellow'\")\n",
    "\n",
    "alien_color = \"yellow\"\n",
    "\n",
    "if alien_color ==\"green\":\n",
    "    print(\"You just earned 5 points\")\n",
    "elif alien_color == \"yellow\":\n",
    "    print(\"You just earned 10 points\")\n",
    "elif alien_color == \"red\":\n",
    "    print(\"You just earned 15 points\")\n",
    "\n",
    "print (\"\\nwhen alien_color varriable is 'Red'\")\n",
    "\n",
    "alien_color = \"red\"\n",
    "\n",
    "if alien_color ==\"green\":\n",
    "    print(\"You just earned 5 points\")\n",
    "elif alien_color == \"yellow\":\n",
    "    print(\"You just earned 10 points\")\n",
    "elif alien_color == \"red\":\n",
    "    print(\"You just earned 15 points\")"
   ]
  },
  {
   "cell_type": "code",
   "execution_count": 14,
   "metadata": {},
   "outputs": [
    {
     "name": "stdout",
     "output_type": "stream",
     "text": [
      "\n",
      "\n",
      "\n",
      "Person is an elder\n"
     ]
    }
   ],
   "source": [
    "'''5-6. Stages of Life: Write an if-elif-else chain that determines a person’s\n",
    "stage of life. Set a value for the variable age, and then:'''\n",
    "\n",
    "'''\n",
    "If the person is less than 2 years old, print a message that the person is a baby.\n",
    "• If the person is at least 2 years old but less than 4, print a message that the person is a toddler.\n",
    "• If the person is at least 4 years old but less than 13, print a message that the person is a kid.\n",
    "• If the person is at least 13 years old but less than 20, print a message that the person is a teenager.\n",
    "• If the person is at least 20 years old but less than 65, print a message that the person is an adult.\n",
    "• If the person is age 65 or older, print a message that the person is an elder.\n",
    "'''\n",
    "print(\"\\n\\n\")\n",
    "\n",
    "age=72\n",
    "if age < 2:\n",
    "    print(\"Person is a baby\")\n",
    "elif age >= 2 and age < 4:\n",
    "    print(\"Person is a toddler\")\n",
    "elif age >= 4 and age < 13:\n",
    "    print(\"Person is a kid\")\n",
    "elif age >= 13 and age < 20:\n",
    "    print(\"Person is a teenager\")\n",
    "elif age >= 20 and age < 65:\n",
    "    print(\"Person is an adult\")\n",
    "else:\n",
    "    print(\"Person is an elder\")"
   ]
  },
  {
   "cell_type": "code",
   "execution_count": null,
   "metadata": {
    "collapsed": true
   },
   "outputs": [],
   "source": []
  }
 ],
 "metadata": {
  "kernelspec": {
   "display_name": "Python 3",
   "language": "python",
   "name": "python3"
  },
  "language_info": {
   "codemirror_mode": {
    "name": "ipython",
    "version": 3
   },
   "file_extension": ".py",
   "mimetype": "text/x-python",
   "name": "python",
   "nbconvert_exporter": "python",
   "pygments_lexer": "ipython3",
   "version": "3.6.3"
  }
 },
 "nbformat": 4,
 "nbformat_minor": 2
}
